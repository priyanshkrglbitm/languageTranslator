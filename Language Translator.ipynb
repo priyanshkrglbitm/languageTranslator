{
 "cells": [
  {
   "cell_type": "code",
   "execution_count": null,
   "id": "49d51e5f",
   "metadata": {},
   "outputs": [],
   "source": [
    "import requests\n",
    "\n",
    "def translate_text(text, source_lang, target_lang):\n",
    "    url = \"https://translate.googleapis.com/translate_a/single\"\n",
    "    params = {\n",
    "        \"client\": \"gtx\",\n",
    "        \"sl\": source_lang,\n",
    "        \"tl\": target_lang,\n",
    "        \"dt\": \"t\",\n",
    "        \"q\": text\n",
    "    }\n",
    "\n",
    "    response = requests.get(url, params=params)\n",
    "    if response.status_code == 200:\n",
    "        translated_text = response.json()[0][0][0]\n",
    "        return translated_text\n",
    "    else:\n",
    "        return None\n",
    "\n",
    "def main():\n",
    "    print(\"Language Translator\")\n",
    "    print(\"-------------------\")\n",
    "    text = input(\"Enter the text to translate: \")\n",
    "    source_lang = input(\"Enter the source language: \")\n",
    "    target_lang = input(\"Enter the target language: \")\n",
    "    \n",
    "    translation = translate_text(text, source_lang, target_lang)\n",
    "    if translation:\n",
    "        print(\"Translation:\")\n",
    "        print(translation)\n",
    "    else:\n",
    "        print(\"Translation failed.\")\n",
    "\n",
    "if __name__ == '__main__':\n",
    "    main()"
   ]
  },
  {
   "cell_type": "code",
   "execution_count": null,
   "id": "04473056",
   "metadata": {},
   "outputs": [],
   "source": []
  }
 ],
 "metadata": {
  "kernelspec": {
   "display_name": "Python 3 (ipykernel)",
   "language": "python",
   "name": "python3"
  },
  "language_info": {
   "codemirror_mode": {
    "name": "ipython",
    "version": 3
   },
   "file_extension": ".py",
   "mimetype": "text/x-python",
   "name": "python",
   "nbconvert_exporter": "python",
   "pygments_lexer": "ipython3",
   "version": "3.11.0"
  }
 },
 "nbformat": 4,
 "nbformat_minor": 5
}
